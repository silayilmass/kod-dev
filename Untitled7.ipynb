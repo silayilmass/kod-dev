{
 "cells": [
  {
   "cell_type": "markdown",
   "id": "88de097a",
   "metadata": {},
   "source": [
    "1- Bir sözlük oluşturulur ve bu sözlükte öğrencilerin isimleri ve Matematik, Fizik, Kimya notları tutulur. Kullanıcıdan isim ve ders ismi(Matematik, Fizik, Kimya) istenir ve bu bilgilere göre çıktı verilir."
   ]
  },
  {
   "cell_type": "code",
   "execution_count": 6,
   "id": "1a18170d",
   "metadata": {},
   "outputs": [],
   "source": [
    "notlar={\"Sıla\":{\"Matematik\":100,\"Fizik\":90,\"Kimya\":80},\n",
    "    \"Yunus\":{\"Matematik\":70,\"Fizik\":60,\"Kimya\":50},\n",
    "    \"Emre\":{\"Matematik\":40,\"Fizik\":30,\"Kimya\":20}}"
   ]
  },
  {
   "cell_type": "code",
   "execution_count": 7,
   "id": "55f75109",
   "metadata": {},
   "outputs": [
    {
     "data": {
      "text/plain": [
       "{'Sıla': {'Matematik': 100, 'Fizik': 90, 'Kimya': 80},\n",
       " 'Yunus': {'Matematik': 70, 'Fizik': 60, 'Kimya': 50},\n",
       " 'Emre': {'Matematik': 40, 'Fizik': 30, 'Kimya': 20}}"
      ]
     },
     "execution_count": 7,
     "metadata": {},
     "output_type": "execute_result"
    }
   ],
   "source": [
    "notlar"
   ]
  },
  {
   "cell_type": "code",
   "execution_count": 11,
   "id": "575dfd91",
   "metadata": {},
   "outputs": [
    {
     "data": {
      "text/plain": [
       "{'Matematik': 100, 'Fizik': 90, 'Kimya': 80}"
      ]
     },
     "execution_count": 11,
     "metadata": {},
     "output_type": "execute_result"
    }
   ],
   "source": [
    "notlar[\"Sıla\"]"
   ]
  },
  {
   "cell_type": "code",
   "execution_count": 14,
   "id": "470ec2df",
   "metadata": {},
   "outputs": [
    {
     "data": {
      "text/plain": [
       "{'Matematik': 40, 'Fizik': 30, 'Kimya': 20}"
      ]
     },
     "execution_count": 14,
     "metadata": {},
     "output_type": "execute_result"
    }
   ],
   "source": [
    "notlar[\"Emre\"]"
   ]
  },
  {
   "cell_type": "code",
   "execution_count": 15,
   "id": "db1269bc",
   "metadata": {},
   "outputs": [
    {
     "data": {
      "text/plain": [
       "100"
      ]
     },
     "execution_count": 15,
     "metadata": {},
     "output_type": "execute_result"
    }
   ],
   "source": [
    "notlar[\"Sıla\"][\"Matematik\"]"
   ]
  },
  {
   "cell_type": "markdown",
   "id": "62b75722",
   "metadata": {},
   "source": [
    "2- Sözlük üzerinde değerleri değiştirme, yeni değer ekleme, kullanıcıya ulaşmak istediği bilgileri sorma gibi uygulamalar yapın."
   ]
  },
  {
   "cell_type": "code",
   "execution_count": 16,
   "id": "099c4e98",
   "metadata": {},
   "outputs": [],
   "source": [
    "notlar[\"Yunus\"][\"Fizik\"]=15"
   ]
  },
  {
   "cell_type": "code",
   "execution_count": 17,
   "id": "ef7dd6ab",
   "metadata": {},
   "outputs": [
    {
     "data": {
      "text/plain": [
       "15"
      ]
     },
     "execution_count": 17,
     "metadata": {},
     "output_type": "execute_result"
    }
   ],
   "source": [
    "notlar[\"Yunus\"][\"Fizik\"]"
   ]
  },
  {
   "cell_type": "markdown",
   "id": "64812dca",
   "metadata": {},
   "source": [
    "Mutlu --> {\"Matematik\":95,\"Fizik\":85,\"Kimya\":80}"
   ]
  },
  {
   "cell_type": "code",
   "execution_count": 23,
   "id": "f4a12d5b",
   "metadata": {},
   "outputs": [
    {
     "ename": "SyntaxError",
     "evalue": "cannot assign to literal (513417771.py, line 1)",
     "output_type": "error",
     "traceback": [
      "\u001b[1;36m  Cell \u001b[1;32mIn[23], line 1\u001b[1;36m\u001b[0m\n\u001b[1;33m    notlar=[\"Mutlu\"]={\"Matematik\":95,\"Fizik\":85,\"Kimya\":80}\u001b[0m\n\u001b[1;37m            ^\u001b[0m\n\u001b[1;31mSyntaxError\u001b[0m\u001b[1;31m:\u001b[0m cannot assign to literal\n"
     ]
    }
   ],
   "source": [
    "notlar=[\"Mutlu\"]={\"Matematik\":95,\"Fizik\":85,\"Kimya\":80}"
   ]
  },
  {
   "cell_type": "code",
   "execution_count": null,
   "id": "0e75a6e7",
   "metadata": {},
   "outputs": [],
   "source": []
  }
 ],
 "metadata": {
  "kernelspec": {
   "display_name": "Python 3 (ipykernel)",
   "language": "python",
   "name": "python3"
  },
  "language_info": {
   "codemirror_mode": {
    "name": "ipython",
    "version": 3
   },
   "file_extension": ".py",
   "mimetype": "text/x-python",
   "name": "python",
   "nbconvert_exporter": "python",
   "pygments_lexer": "ipython3",
   "version": "3.11.7"
  }
 },
 "nbformat": 4,
 "nbformat_minor": 5
}
